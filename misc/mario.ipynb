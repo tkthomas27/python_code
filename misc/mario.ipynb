{
 "cells": [
  {
   "cell_type": "code",
   "execution_count": 14,
   "metadata": {
    "ExecuteTime": {
     "end_time": "2017-04-19T21:31:36.314943",
     "start_time": "2017-04-19T21:31:36.305567"
    },
    "collapsed": false
   },
   "outputs": [
    {
     "name": "stdout",
     "output_type": "stream",
     "text": [
      "                    *\n",
      "                  * *\n",
      "                * * *\n",
      "              * * * *\n",
      "            * * * * *\n",
      "          * * * * * *\n",
      "        * * * * * * *\n",
      "      * * * * * * * *\n",
      "    * * * * * * * * *\n",
      "  * * * * * * * * * *\n"
     ]
    }
   ],
   "source": [
    "def mario(steps):\n",
    "    for i in range(steps):\n",
    "        level = []\n",
    "        ix = i+1\n",
    "        level.extend([\" \" for x in range(steps-i)])\n",
    "        level.extend([\"*\" for y in range(ix)])\n",
    "        print(' '.join(level))\n",
    "        \n",
    "mario(10)"
   ]
  },
  {
   "cell_type": "code",
   "execution_count": 15,
   "metadata": {
    "ExecuteTime": {
     "end_time": "2017-04-19T22:18:47.464655",
     "start_time": "2017-04-19T22:18:47.457431"
    },
    "collapsed": false
   },
   "outputs": [
    {
     "name": "stdout",
     "output_type": "stream",
     "text": [
      "*\n",
      "* *\n",
      "* * *\n",
      "* * * *\n",
      "* * * * *\n",
      "* * * * * *\n",
      "* * * * * * *\n",
      "* * * * * * * *\n",
      "* * * * * * * * *\n",
      "* * * * * * * * * *\n"
     ]
    }
   ],
   "source": [
    "def mario_reverse(steps):\n",
    "    for i in range(steps):\n",
    "        level = []\n",
    "        ix = i+1\n",
    "        level.extend([\"*\" for y in range(ix)])\n",
    "        print(' '.join(level))\n",
    "        \n",
    "mario_reverse(10)"
   ]
  },
  {
   "cell_type": "code",
   "execution_count": null,
   "metadata": {
    "collapsed": true
   },
   "outputs": [],
   "source": []
  }
 ],
 "metadata": {
  "kernelspec": {
   "display_name": "Python 3",
   "language": "python",
   "name": "python3"
  },
  "language_info": {
   "codemirror_mode": {
    "name": "ipython",
    "version": 3
   },
   "file_extension": ".py",
   "mimetype": "text/x-python",
   "name": "python",
   "nbconvert_exporter": "python",
   "pygments_lexer": "ipython3",
   "version": "3.5.2"
  },
  "latex_envs": {
   "LaTeX_envs_menu_present": true,
   "bibliofile": "biblio.bib",
   "cite_by": "apalike",
   "current_citInitial": 1,
   "eqLabelWithNumbers": true,
   "eqNumInitial": 1,
   "labels_anchors": false,
   "latex_user_defs": false,
   "report_style_numbering": false,
   "user_envs_cfg": false
  },
  "toc": {
   "colors": {
    "hover_highlight": "#DAA520",
    "running_highlight": "#FF0000",
    "selected_highlight": "#FFD700"
   },
   "moveMenuLeft": true,
   "nav_menu": {
    "height": "12px",
    "width": "252px"
   },
   "navigate_menu": true,
   "number_sections": true,
   "sideBar": true,
   "threshold": 4,
   "toc_cell": false,
   "toc_section_display": "block",
   "toc_window_display": false
  }
 },
 "nbformat": 4,
 "nbformat_minor": 2
}
